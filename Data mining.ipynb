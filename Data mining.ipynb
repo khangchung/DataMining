{
 "cells": [
  {
   "cell_type": "code",
   "execution_count": 1,
   "id": "d1be7047-7051-4c3f-a3ac-05a8e074e0c6",
   "metadata": {},
   "outputs": [
    {
     "name": "stdout",
     "output_type": "stream",
     "text": [
      "Requirement already satisfied: pandas in c:\\users\\glenn\\appdata\\local\\programs\\python\\python310\\lib\\site-packages (1.4.2)\n",
      "Requirement already satisfied: python-dateutil>=2.8.1 in c:\\users\\glenn\\appdata\\local\\programs\\python\\python310\\lib\\site-packages (from pandas) (2.8.2)\n",
      "Requirement already satisfied: numpy>=1.21.0 in c:\\users\\glenn\\appdata\\local\\programs\\python\\python310\\lib\\site-packages (from pandas) (1.21.6)\n",
      "Requirement already satisfied: pytz>=2020.1 in c:\\users\\glenn\\appdata\\local\\programs\\python\\python310\\lib\\site-packages (from pandas) (2022.1)\n",
      "Requirement already satisfied: six>=1.5 in c:\\users\\glenn\\appdata\\local\\programs\\python\\python310\\lib\\site-packages (from python-dateutil>=2.8.1->pandas) (1.16.0)\n",
      "Requirement already satisfied: matplotlib in c:\\users\\glenn\\appdata\\local\\programs\\python\\python310\\lib\\site-packages (3.5.2)\n",
      "Requirement already satisfied: fonttools>=4.22.0 in c:\\users\\glenn\\appdata\\local\\programs\\python\\python310\\lib\\site-packages (from matplotlib) (4.33.3)\n",
      "Requirement already satisfied: cycler>=0.10 in c:\\users\\glenn\\appdata\\local\\programs\\python\\python310\\lib\\site-packages (from matplotlib) (0.11.0)\n",
      "Requirement already satisfied: pillow>=6.2.0 in c:\\users\\glenn\\appdata\\local\\programs\\python\\python310\\lib\\site-packages (from matplotlib) (9.1.0)\n",
      "Requirement already satisfied: numpy>=1.17 in c:\\users\\glenn\\appdata\\local\\programs\\python\\python310\\lib\\site-packages (from matplotlib) (1.21.6)\n",
      "Requirement already satisfied: pyparsing>=2.2.1 in c:\\users\\glenn\\appdata\\local\\programs\\python\\python310\\lib\\site-packages (from matplotlib) (3.0.8)\n",
      "Requirement already satisfied: python-dateutil>=2.7 in c:\\users\\glenn\\appdata\\local\\programs\\python\\python310\\lib\\site-packages (from matplotlib) (2.8.2)\n",
      "Requirement already satisfied: packaging>=20.0 in c:\\users\\glenn\\appdata\\local\\programs\\python\\python310\\lib\\site-packages (from matplotlib) (21.3)\n",
      "Requirement already satisfied: kiwisolver>=1.0.1 in c:\\users\\glenn\\appdata\\local\\programs\\python\\python310\\lib\\site-packages (from matplotlib) (1.4.2)\n",
      "Requirement already satisfied: six>=1.5 in c:\\users\\glenn\\appdata\\local\\programs\\python\\python310\\lib\\site-packages (from python-dateutil>=2.7->matplotlib) (1.16.0)\n",
      "Requirement already satisfied: sklearn in c:\\users\\glenn\\appdata\\local\\programs\\python\\python310\\lib\\site-packages (0.0)\n",
      "Requirement already satisfied: scikit-learn in c:\\users\\glenn\\appdata\\roaming\\python\\python310\\site-packages (from sklearn) (1.0.2)\n",
      "Requirement already satisfied: numpy>=1.14.6 in c:\\users\\glenn\\appdata\\local\\programs\\python\\python310\\lib\\site-packages (from scikit-learn->sklearn) (1.21.6)\n",
      "Requirement already satisfied: threadpoolctl>=2.0.0 in c:\\users\\glenn\\appdata\\local\\programs\\python\\python310\\lib\\site-packages (from scikit-learn->sklearn) (3.1.0)\n",
      "Requirement already satisfied: joblib>=0.11 in c:\\users\\glenn\\appdata\\roaming\\python\\python310\\site-packages (from scikit-learn->sklearn) (1.1.0)\n",
      "Requirement already satisfied: scipy>=1.1.0 in c:\\users\\glenn\\appdata\\roaming\\python\\python310\\site-packages (from scikit-learn->sklearn) (1.8.0)\n",
      "Requirement already satisfied: h5py in c:\\users\\glenn\\appdata\\local\\programs\\python\\python310\\lib\\site-packages (3.6.0)\n",
      "Requirement already satisfied: numpy>=1.14.5 in c:\\users\\glenn\\appdata\\local\\programs\\python\\python310\\lib\\site-packages (from h5py) (1.21.6)\n",
      "Requirement already satisfied: tslearn in c:\\users\\glenn\\appdata\\roaming\\python\\python310\\site-packages (0.5.2)\n",
      "Requirement already satisfied: joblib in c:\\users\\glenn\\appdata\\roaming\\python\\python310\\site-packages (from tslearn) (1.1.0)\n",
      "Requirement already satisfied: scikit-learn in c:\\users\\glenn\\appdata\\roaming\\python\\python310\\site-packages (from tslearn) (1.0.2)\n",
      "Requirement already satisfied: Cython in c:\\users\\glenn\\appdata\\roaming\\python\\python310\\site-packages (from tslearn) (0.29.28)\n",
      "Requirement already satisfied: numba in c:\\users\\glenn\\appdata\\roaming\\python\\python310\\site-packages (from tslearn) (0.55.1)\n",
      "Requirement already satisfied: scipy in c:\\users\\glenn\\appdata\\roaming\\python\\python310\\site-packages (from tslearn) (1.8.0)\n",
      "Requirement already satisfied: numpy in c:\\users\\glenn\\appdata\\local\\programs\\python\\python310\\lib\\site-packages (from tslearn) (1.21.6)\n",
      "Requirement already satisfied: setuptools in c:\\users\\glenn\\appdata\\local\\programs\\python\\python310\\lib\\site-packages (from numba->tslearn) (58.1.0)\n",
      "Requirement already satisfied: llvmlite<0.39,>=0.38.0rc1 in c:\\users\\glenn\\appdata\\roaming\\python\\python310\\site-packages (from numba->tslearn) (0.38.0)\n",
      "Requirement already satisfied: threadpoolctl>=2.0.0 in c:\\users\\glenn\\appdata\\local\\programs\\python\\python310\\lib\\site-packages (from scikit-learn->tslearn) (3.1.0)\n",
      "Requirement already satisfied: selenium in c:\\users\\glenn\\appdata\\local\\programs\\python\\python310\\lib\\site-packages (4.1.3)\n",
      "Requirement already satisfied: trio-websocket~=0.9 in c:\\users\\glenn\\appdata\\local\\programs\\python\\python310\\lib\\site-packages (from selenium) (0.9.2)\n",
      "Requirement already satisfied: trio~=0.17 in c:\\users\\glenn\\appdata\\local\\programs\\python\\python310\\lib\\site-packages (from selenium) (0.20.0)\n",
      "Requirement already satisfied: urllib3[secure,socks]~=1.26 in c:\\users\\glenn\\appdata\\local\\programs\\python\\python310\\lib\\site-packages (from selenium) (1.26.9)\n",
      "Requirement already satisfied: sortedcontainers in c:\\users\\glenn\\appdata\\local\\programs\\python\\python310\\lib\\site-packages (from trio~=0.17->selenium) (2.4.0)\n",
      "Requirement already satisfied: cffi>=1.14 in c:\\users\\glenn\\appdata\\local\\programs\\python\\python310\\lib\\site-packages (from trio~=0.17->selenium) (1.15.0)\n",
      "Requirement already satisfied: async-generator>=1.9 in c:\\users\\glenn\\appdata\\local\\programs\\python\\python310\\lib\\site-packages (from trio~=0.17->selenium) (1.10)\n",
      "Requirement already satisfied: idna in c:\\users\\glenn\\appdata\\local\\programs\\python\\python310\\lib\\site-packages (from trio~=0.17->selenium) (3.3)\n",
      "Requirement already satisfied: sniffio in c:\\users\\glenn\\appdata\\local\\programs\\python\\python310\\lib\\site-packages (from trio~=0.17->selenium) (1.2.0)\n",
      "Requirement already satisfied: outcome in c:\\users\\glenn\\appdata\\local\\programs\\python\\python310\\lib\\site-packages (from trio~=0.17->selenium) (1.1.0)\n",
      "Requirement already satisfied: attrs>=19.2.0 in c:\\users\\glenn\\appdata\\local\\programs\\python\\python310\\lib\\site-packages (from trio~=0.17->selenium) (21.4.0)\n",
      "Requirement already satisfied: wsproto>=0.14 in c:\\users\\glenn\\appdata\\local\\programs\\python\\python310\\lib\\site-packages (from trio-websocket~=0.9->selenium) (1.1.0)\n",
      "Requirement already satisfied: PySocks!=1.5.7,<2.0,>=1.5.6 in c:\\users\\glenn\\appdata\\local\\programs\\python\\python310\\lib\\site-packages (from urllib3[secure,socks]~=1.26->selenium) (1.7.1)\n",
      "Requirement already satisfied: certifi in c:\\users\\glenn\\appdata\\local\\programs\\python\\python310\\lib\\site-packages (from urllib3[secure,socks]~=1.26->selenium) (2021.10.8)\n",
      "Requirement already satisfied: pyOpenSSL>=0.14 in c:\\users\\glenn\\appdata\\local\\programs\\python\\python310\\lib\\site-packages (from urllib3[secure,socks]~=1.26->selenium) (22.0.0)\n",
      "Requirement already satisfied: cryptography>=1.3.4 in c:\\users\\glenn\\appdata\\local\\programs\\python\\python310\\lib\\site-packages (from urllib3[secure,socks]~=1.26->selenium) (37.0.1)\n",
      "Requirement already satisfied: pycparser in c:\\users\\glenn\\appdata\\local\\programs\\python\\python310\\lib\\site-packages (from cffi>=1.14->trio~=0.17->selenium) (2.21)\n",
      "Requirement already satisfied: h11<1,>=0.9.0 in c:\\users\\glenn\\appdata\\local\\programs\\python\\python310\\lib\\site-packages (from wsproto>=0.14->trio-websocket~=0.9->selenium) (0.13.0)\n",
      "Requirement already satisfied: webdriver_manager in c:\\users\\glenn\\appdata\\local\\programs\\python\\python310\\lib\\site-packages (3.5.4)\n",
      "Requirement already satisfied: requests in c:\\users\\glenn\\appdata\\local\\programs\\python\\python310\\lib\\site-packages (from webdriver_manager) (2.27.1)\n",
      "Requirement already satisfied: urllib3<1.27,>=1.21.1 in c:\\users\\glenn\\appdata\\local\\programs\\python\\python310\\lib\\site-packages (from requests->webdriver_manager) (1.26.9)\n",
      "Requirement already satisfied: charset-normalizer~=2.0.0 in c:\\users\\glenn\\appdata\\local\\programs\\python\\python310\\lib\\site-packages (from requests->webdriver_manager) (2.0.12)\n",
      "Requirement already satisfied: idna<4,>=2.5 in c:\\users\\glenn\\appdata\\local\\programs\\python\\python310\\lib\\site-packages (from requests->webdriver_manager) (3.3)\n",
      "Requirement already satisfied: certifi>=2017.4.17 in c:\\users\\glenn\\appdata\\local\\programs\\python\\python310\\lib\\site-packages (from requests->webdriver_manager) (2021.10.8)\n"
     ]
    }
   ],
   "source": [
    "# Install library\n",
    "!pip install pandas\n",
    "!pip install matplotlib\n",
    "!pip install sklearn\n",
    "!pip install h5py\n",
    "!pip install tslearn\n",
    "!pip install selenium\n",
    "!pip install webdriver_manager"
   ]
  },
  {
   "cell_type": "code",
   "execution_count": 2,
   "id": "be5e34ef-c326-4eef-b343-9e3ab76a342a",
   "metadata": {},
   "outputs": [],
   "source": [
    "# Modules for crawling\n",
    "from selenium.webdriver.common.by import By\n",
    "from selenium import webdriver\n",
    "from selenium.webdriver.chrome.service import Service as ChromeService\n",
    "from webdriver_manager.chrome import ChromeDriverManager\n",
    "from time import sleep"
   ]
  },
  {
   "cell_type": "code",
   "execution_count": 3,
   "id": "93038d4a-4bc8-4353-86b8-ce5b6607abdf",
   "metadata": {},
   "outputs": [
    {
     "name": "stderr",
     "output_type": "stream",
     "text": [
      "\n",
      "\n",
      "====== WebDriver manager ======\n",
      "Current google-chrome version is 101.0.4951\n",
      "Get LATEST chromedriver version for 101.0.4951 google-chrome\n",
      "Driver [C:\\Users\\glenn\\.wdm\\drivers\\chromedriver\\win32\\101.0.4951.41\\chromedriver.exe] found in cache\n"
     ]
    }
   ],
   "source": [
    "# Chrome service\n",
    "service = ChromeService(executable_path=ChromeDriverManager().install())"
   ]
  },
  {
   "cell_type": "code",
   "execution_count": 4,
   "id": "92c5b85d-b553-478d-8955-d4799b4c052d",
   "metadata": {},
   "outputs": [
    {
     "name": "stdout",
     "output_type": "stream",
     "text": [
      "204\n"
     ]
    }
   ],
   "source": [
    "# Collect symbols\n",
    "url = 'https://quotes.vcbs.com.vn/a/exchange.html?symbol=HSX'\n",
    "filename = 'symbols.csv'\n",
    "\n",
    "driver = webdriver.Chrome(service=service)\n",
    "driver.get(url)\n",
    "sleep(3)\n",
    "body = driver.find_element(By.TAG_NAME, 'body')\n",
    "div = body.find_elements(By.CLASS_NAME, 'StockSymbolEven')\n",
    "\n",
    "symbols = []\n",
    "with open(filename, 'w') as f:\n",
    "    f.write('Symbols\\n')\n",
    "    for item in div:\n",
    "        text = item.text\n",
    "        f.write(text + '\\n')\n",
    "        symbols.append(text)\n",
    "f.close()\n",
    "print(len(symbols))\n",
    "\n",
    "driver.quit()"
   ]
  },
  {
   "cell_type": "code",
   "execution_count": null,
   "id": "f27be260-a057-4401-b026-70d830b04cd9",
   "metadata": {
    "tags": []
   },
   "outputs": [
    {
     "name": "stdout",
     "output_type": "stream",
     "text": [
      "Crawling... HPG at page 30\n"
     ]
    }
   ],
   "source": [
    "# Collect closing price 2020, 2021, 2022\n",
    "from IPython.display import clear_output\n",
    "import random as rd\n",
    "import os\n",
    "\n",
    "url = 'https://s.cafef.vn/Lich-su-giao-dich-VNINDEX-1.chn'\n",
    "driver = webdriver.Chrome(service=service)\n",
    "driver.get(url)\n",
    "sleep(1)\n",
    "used_symbols = []\n",
    "needed_symbol_quantity = 100\n",
    "years = [2020, 2021, 2022]\n",
    "msg = ''\n",
    "msg_tmp = ''\n",
    "times = 0\n",
    "step = 0\n",
    "os.system('mkdir data')\n",
    "while len(used_symbols) < needed_symbol_quantity:\n",
    "    try:\n",
    "        if step % 2 == 0:\n",
    "            msg += msg_tmp\n",
    "            msg_tmp = ''\n",
    "        symbol = symbols[rd.randint(0, len(symbols) - 1)]\n",
    "        while symbol in used_symbols:\n",
    "            symbol = symbols[rd.randint(0, len(symbols) - 1)]\n",
    "        h1 = driver.find_element(By.TAG_NAME, 'h1')\n",
    "        if len(used_symbols) > 0 and used_symbols[-1] in h1.text and times != 0:\n",
    "            symbolTxt = driver.find_elements(By.TAG_NAME, 'input')[3]\n",
    "            driver.execute_script(\"document.getElementsByTagName('input')[3].value = ''\")\n",
    "            symbolTxt.send_keys(symbol)\n",
    "            sleep(1)\n",
    "            label = driver.find_element(By.CLASS_NAME, 'ac_over')\n",
    "            label.click()\n",
    "        else:\n",
    "            try:\n",
    "                symbolTxt = driver.find_elements(By.TAG_NAME, 'input')[4]\n",
    "                driver.execute_script(\"document.getElementsByTagName('input')[4].value = ''\")\n",
    "                symbolTxt.send_keys(symbol)\n",
    "                sleep(1)\n",
    "                label = driver.find_element(By.CLASS_NAME, 'ac_over')\n",
    "                label.click()\n",
    "            except:\n",
    "                symbolTxt = driver.find_elements(By.TAG_NAME, 'input')[1]\n",
    "                driver.execute_script(\"document.getElementsByTagName('input')[1].value = ''\")\n",
    "                symbolTxt.send_keys(symbol)\n",
    "                sleep(1)\n",
    "                label = driver.find_element(By.CLASS_NAME, 'ac_over')\n",
    "                label.click()\n",
    "            times += 1\n",
    "        table = driver.find_elements(By.TAG_NAME, 'table')\n",
    "        if len(table) > 1:\n",
    "            sleep(1)\n",
    "            flag = True\n",
    "            index = 1\n",
    "            filename = './data/{}.csv'.format(symbol)\n",
    "            with open(filename, 'w') as f:\n",
    "                f.write('Date,Closing Price\\n')\n",
    "                while flag:\n",
    "                    sleep(1.5)\n",
    "                    clear_output()\n",
    "                    print('{}{}Crawling... {} at page {}'.format(msg, msg_tmp, symbol, index))\n",
    "                    tbody = driver.find_elements(By.TAG_NAME, 'tbody')\n",
    "                    if len(tbody) < 3:\n",
    "                        used_symbols = used_symbols[:-1]\n",
    "                        break\n",
    "                    trs = tbody[1].find_elements(By.TAG_NAME, 'tr')\n",
    "                    for tr in trs[2:]:\n",
    "                        td = tr.find_elements(By.TAG_NAME, 'td')\n",
    "                        year = int(td[0].text.strip()[-4:])\n",
    "                        if year in years:\n",
    "                            try:\n",
    "                                f.write('{},{}\\n'.format(td[0].text.strip(), td[2].text.strip()))\n",
    "                            except:\n",
    "                                flag = False\n",
    "                                break\n",
    "                        else:\n",
    "                            flag = False\n",
    "                            break\n",
    "                    td = tbody[2].find_elements(By.TAG_NAME, 'td')\n",
    "                    a = td[len(td) - 1].find_elements(By.TAG_NAME, 'a')\n",
    "                    try:\n",
    "                        a[len(a) - 1].click()\n",
    "                    except:\n",
    "                        break\n",
    "                    index += 1\n",
    "            f.close()\n",
    "            sleep(0.5)\n",
    "            if index >= 25:\n",
    "                used_symbols.append(symbol)\n",
    "                times = 0\n",
    "                step += 1\n",
    "                msg_tmp = 'Symbol: {} - Pages: {} - Symbol total: {}\\n'.format(symbol, index, len(used_symbols))\n",
    "            else:\n",
    "                os.system('rm ./data/{}.csv'.format(used_symbols[-1]))\n",
    "                used_symbols = used_symbols[:-1]\n",
    "    except Exception as exception:\n",
    "        if  exception.__class__.__name__ == 'StaleElementReferenceException':\n",
    "            os.system('rm ./data/{}.csv'.format(used_symbols[-1]))\n",
    "            used_symbols = used_symbols[:-1]\n",
    "        continue\n",
    "print(len(used_symbols))\n",
    "driver.quit()"
   ]
  },
  {
   "cell_type": "code",
   "execution_count": null,
   "id": "3c20cfd2-867b-45ca-8eb5-90e033377c5f",
   "metadata": {},
   "outputs": [],
   "source": [
    "# Assign data to dictionary (key is date)\n",
    "from datetime import date\n",
    "\n",
    "data = {}\n",
    "for symbol in used_symbols:\n",
    "    filename = './data/' + symbol + '.csv'\n",
    "    not_none = []\n",
    "    \n",
    "    with open(filename, 'r') as f:\n",
    "        for line in f.readlines()[1:]:\n",
    "            values = line.strip().split(',')\n",
    "            if values[0] not in data.keys():\n",
    "                data[values[0]] = [float(values[1])]\n",
    "            else:\n",
    "                data[values[0]].append(float(values[1]))\n",
    "            not_none.append(values[0])\n",
    "    f.close()\n",
    "    for key in data.keys():\n",
    "        if key not in not_none:\n",
    "            data[key].append(0.0)\n",
    "today = date.today().strftime('%d/%m/%Y')\n",
    "data.pop(today)\n",
    "print(len(data))"
   ]
  },
  {
   "cell_type": "code",
   "execution_count": null,
   "id": "84f04b98-8887-4067-8aa2-861f71300ca9",
   "metadata": {},
   "outputs": [],
   "source": [
    "# Remove unnecessary item\n",
    "for key in data.keys():\n",
    "    if len(data[key]) > 100:\n",
    "        data[key] = data[key][:-(len(data[key]) - 100)]"
   ]
  },
  {
   "cell_type": "code",
   "execution_count": null,
   "id": "69e1a3f5-91a2-4f05-b1cd-5fcb779ce89d",
   "metadata": {},
   "outputs": [],
   "source": [
    "# Dictionary to dataframe\n",
    "import pandas as pd\n",
    "\n",
    "df = pd.DataFrame.from_dict(data, orient='index', columns=used_symbols)\n",
    "df.head(10)"
   ]
  },
  {
   "cell_type": "code",
   "execution_count": null,
   "id": "62cc41bd-960e-4a14-8832-8b4c6e251317",
   "metadata": {},
   "outputs": [],
   "source": [
    "df[::-1].to_csv('ClosingPrice.csv')"
   ]
  },
  {
   "cell_type": "code",
   "execution_count": null,
   "id": "6edbf189-983c-420a-82cd-5103881ba434",
   "metadata": {},
   "outputs": [],
   "source": [
    "# Read data\n",
    "import pandas as pd\n",
    "\n",
    "filename = 'ClosingPrice.csv'\n",
    "df = pd.read_csv(filename)\n",
    "df.head(10)"
   ]
  },
  {
   "cell_type": "code",
   "execution_count": null,
   "id": "8abc3f04-b97d-4b7f-8c18-ab907d9f8b91",
   "metadata": {},
   "outputs": [],
   "source": [
    "# Normalize data\n",
    "from tslearn.preprocessing import TimeSeriesScalerMeanVariance\n",
    "\n",
    "normalizeData = []\n",
    "for colName in df.columns:\n",
    "  tssmv = TimeSeriesScalerMeanVariance()\n",
    "  normalizeData.append((colName, tssmv.fit_transform([df['DCL']])[0]))"
   ]
  },
  {
   "cell_type": "code",
   "execution_count": null,
   "id": "38f972c3-9e68-4a91-b28b-bcd65794bf33",
   "metadata": {},
   "outputs": [],
   "source": [
    "# Show image 5 symbol before normalize and after normalize\n",
    "import matplotlib.pyplot as plt\n",
    "import numpy as np\n",
    "\n",
    "for i in range(5):\n",
    "  x = np.array([i for i in range(len(normalizeData[i][1]))])\n",
    "  y = np.array(df[normalizeData[i][0]])\n",
    "  y2 = np.array(normalizeData[i][1])\n",
    "  fig, ax = plt.subplots()\n",
    "  ax.plot(x, y, label='before normalizing')\n",
    "  ax.plot(x, y2, label='after normalizing')\n",
    "  ax.set_title(normalizeData[i][0])\n",
    "  ax.legend()"
   ]
  },
  {
   "cell_type": "code",
   "execution_count": null,
   "id": "7418b7d0-1364-49b9-899a-1a5ed9bfb1db",
   "metadata": {},
   "outputs": [],
   "source": [
    "# Train test split\n",
    "from sklearn.model_selection import train_test_split\n",
    "\n",
    "X_train\n",
    "y_train\n",
    "X_test"
   ]
  },
  {
   "cell_type": "code",
   "execution_count": null,
   "id": "a80ffe76-e979-44ca-9880-badc6d9a5c9d",
   "metadata": {},
   "outputs": [],
   "source": [
    "# Standard Euclidean k-means\n",
    "from tslearn.clustering import TimeSeriesKMeans\n",
    "\n"
   ]
  }
 ],
 "metadata": {
  "kernelspec": {
   "display_name": "Python 3 (ipykernel)",
   "language": "python",
   "name": "python3"
  },
  "language_info": {
   "codemirror_mode": {
    "name": "ipython",
    "version": 3
   },
   "file_extension": ".py",
   "mimetype": "text/x-python",
   "name": "python",
   "nbconvert_exporter": "python",
   "pygments_lexer": "ipython3",
   "version": "3.10.4"
  }
 },
 "nbformat": 4,
 "nbformat_minor": 5
}
